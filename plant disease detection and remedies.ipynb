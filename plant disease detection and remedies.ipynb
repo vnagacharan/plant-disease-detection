{
 "cells": [
  {
   "cell_type": "code",
   "execution_count": 44,
   "metadata": {},
   "outputs": [],
   "source": [
    "# Import neccessary packages\n",
    "\n",
    "import tensorflow as tf\n",
    "import numpy as np\n",
    "import pickle\n",
    "import cv2\n",
    "from os import listdir\n",
    "from sklearn.preprocessing import LabelBinarizer\n",
    "from keras.models import Sequential\n",
    "from keras.layers.normalization import BatchNormalization\n",
    "from keras.layers.convolutional import Conv2D\n",
    "from keras.layers.convolutional import MaxPooling2D\n",
    "from keras.layers.core import Activation, Flatten, Dropout, Dense\n",
    "from keras import backend as K\n",
    "from keras.preprocessing.image import ImageDataGenerator\n",
    "from keras.optimizers import Adam\n",
    "from keras.preprocessing import image\n",
    "from keras.preprocessing.image import img_to_array\n",
    "from sklearn.preprocessing import MultiLabelBinarizer\n",
    "from sklearn.model_selection import train_test_split\n",
    "import matplotlib.pyplot as plt\n"
   ]
  },
  {
   "cell_type": "code",
   "execution_count": 7,
   "metadata": {},
   "outputs": [
    {
     "name": "stdout",
     "output_type": "stream",
     "text": [
      "Collecting matplotlib\n",
      "  Using cached matplotlib-3.2.1-cp37-cp37m-win_amd64.whl (9.2 MB)\n",
      "Requirement already satisfied: numpy>=1.11 in c:\\users\\user\\anaconda3\\lib\\site-packages (from matplotlib) (1.18.1)\n",
      "Collecting pyparsing!=2.0.4,!=2.1.2,!=2.1.6,>=2.0.1\n",
      "  Downloading pyparsing-2.4.7-py2.py3-none-any.whl (67 kB)\n",
      "Collecting cycler>=0.10\n",
      "  Using cached cycler-0.10.0-py2.py3-none-any.whl (6.5 kB)\n",
      "Requirement already satisfied: python-dateutil>=2.1 in c:\\users\\user\\anaconda3\\lib\\site-packages (from matplotlib) (2.8.1)\n",
      "Collecting kiwisolver>=1.0.1\n",
      "  Using cached kiwisolver-1.2.0-cp37-none-win_amd64.whl (57 kB)\n",
      "Requirement already satisfied: six in c:\\users\\user\\appdata\\roaming\\python\\python37\\site-packages (from cycler>=0.10->matplotlib) (1.14.0)\n",
      "Installing collected packages: pyparsing, cycler, kiwisolver, matplotlib\n",
      "Successfully installed cycler-0.10.0 kiwisolver-1.2.0 matplotlib-3.2.1 pyparsing-2.4.7\n"
     ]
    }
   ],
   "source": [
    "!pip install matplotlib"
   ]
  },
  {
   "cell_type": "code",
   "execution_count": 45,
   "metadata": {},
   "outputs": [],
   "source": [
    "#epochs and size of NN is defined\n",
    "\n",
    "EPOCHS = 25\n",
    "INIT_LR = 1e-3\n",
    "BS = 32\n",
    "default_image_size = tuple((44,44))\n",
    "image_size = 0\n",
    "directory_root = 'C:/Users/User/Desktop/deloitte/data/disease_data/disease_data_1/train'\n",
    "width = 44\n",
    "height = 44\n",
    "depth = 3"
   ]
  },
  {
   "cell_type": "code",
   "execution_count": 46,
   "metadata": {},
   "outputs": [],
   "source": [
    "# Function to convert images to array\n",
    "\n",
    "def convert_image_to_array(image_dir):\n",
    "    try:\n",
    "        image = cv2.imread(image_dir)  #cv2 used as keword for OpenCV Library already imported in main code\n",
    "        if image is not None:\n",
    "            image = cv2.resize(image, default_image_size)\n",
    "            return img_to_array(image)\n",
    "        else:\n",
    "            return np.array([])\n",
    "    except Exception as e:\n",
    "        print(f\"Error : {e}\")\n",
    "        return None"
   ]
  },
  {
   "cell_type": "code",
   "execution_count": 47,
   "metadata": {},
   "outputs": [
    {
     "name": "stdout",
     "output_type": "stream",
     "text": [
      "['Apple', 'Blueberry', 'Cherry', 'Corn', 'Grape', 'Orange', 'Peach', 'Pepperbell', 'Potato', 'raspberry', 'Soybean', 'Squash', 'Starwberry', 'Tomato']\n"
     ]
    }
   ],
   "source": [
    "root_dir = listdir(directory_root)\n",
    "print(root_dir)"
   ]
  },
  {
   "cell_type": "code",
   "execution_count": 51,
   "metadata": {},
   "outputs": [
    {
     "name": "stdout",
     "output_type": "stream",
     "text": [
      "['Apple___Apple_scab', 'Apple___Black_rot', 'Apple___Cedar_apple_rust', 'Apple___healthy']\n",
      "['Blueberry___healthy']\n",
      "['Cherry_(including_sour)___healthy', 'Cherry_(including_sour)___Powdery_mildew']\n",
      "['Corn_(maize)___Cercospora_leaf_spot Gray_leaf_spot', 'Corn_(maize)___Common_rust_', 'Corn_(maize)___healthy', 'Corn_(maize)___Northern_Leaf_Blight']\n",
      "['Grape___Black_rot', 'Grape___Esca_(Black_Measles)', 'Grape___healthy', 'Grape___Leaf_blight_(Isariopsis_Leaf_Spot)']\n",
      "['Orange___Haunglongbing_(Citrus_greening)']\n",
      "['Peach___Bacterial_spot', 'Peach___healthy']\n",
      "['Pepper,_bell___Bacterial_spot', 'Pepper,_bell___healthy']\n",
      "['Potato___Early_blight', 'Potato___healthy', 'Potato___Late_blight']\n",
      "['Raspberry___healthy']\n",
      "['Soybean___healthy']\n",
      "['Squash___Powdery_mildew']\n",
      "['Strawberry___healthy', 'Strawberry___Leaf_scorch']\n",
      "['Tomato___Bacterial_spot', 'Tomato___Early_blight', 'Tomato___healthy', 'Tomato___Late_blight', 'Tomato___Leaf_Mold', 'Tomato___Septoria_leaf_spot', 'Tomato___Spider_mites Two-spotted_spider_mite', 'Tomato___Target_Spot', 'Tomato___Tomato_mosaic_virus', 'Tomato___Tomato_Yellow_Leaf_Curl_Virus']\n",
      "14\n"
     ]
    }
   ],
   "source": [
    "a=0\n",
    "for plant_folder in root_dir :\n",
    "        plant_disease_folder_list = listdir(f\"{directory_root}/{plant_folder}\")\n",
    "        print(plant_disease_folder_list)\n",
    "        a+=1\n",
    "print(a)     "
   ]
  },
  {
   "cell_type": "code",
   "execution_count": null,
   "metadata": {},
   "outputs": [],
   "source": []
  },
  {
   "cell_type": "code",
   "execution_count": 52,
   "metadata": {},
   "outputs": [
    {
     "name": "stdout",
     "output_type": "stream",
     "text": [
      "[INFO] Loading images ...\n",
      "[INFO] Processing Apple___Apple_scab ...\n",
      "[INFO] Processing Apple___Black_rot ...\n",
      "[INFO] Processing Apple___Cedar_apple_rust ...\n",
      "[INFO] Processing Apple___healthy ...\n",
      "[INFO] Processing Blueberry___healthy ...\n",
      "[INFO] Processing Cherry_(including_sour)___healthy ...\n",
      "[INFO] Processing Cherry_(including_sour)___Powdery_mildew ...\n",
      "[INFO] Processing Corn_(maize)___Cercospora_leaf_spot Gray_leaf_spot ...\n",
      "[INFO] Processing Corn_(maize)___Common_rust_ ...\n",
      "[INFO] Processing Corn_(maize)___healthy ...\n",
      "[INFO] Processing Corn_(maize)___Northern_Leaf_Blight ...\n",
      "[INFO] Processing Grape___Black_rot ...\n",
      "[INFO] Processing Grape___Esca_(Black_Measles) ...\n",
      "[INFO] Processing Grape___healthy ...\n",
      "[INFO] Processing Grape___Leaf_blight_(Isariopsis_Leaf_Spot) ...\n",
      "[INFO] Processing Orange___Haunglongbing_(Citrus_greening) ...\n",
      "[INFO] Processing Peach___Bacterial_spot ...\n",
      "[INFO] Processing Peach___healthy ...\n",
      "[INFO] Processing Pepper,_bell___Bacterial_spot ...\n",
      "[INFO] Processing Pepper,_bell___healthy ...\n",
      "[INFO] Processing Potato___Early_blight ...\n",
      "[INFO] Processing Potato___healthy ...\n",
      "[INFO] Processing Potato___Late_blight ...\n",
      "[INFO] Processing Raspberry___healthy ...\n",
      "[INFO] Processing Soybean___healthy ...\n",
      "[INFO] Processing Squash___Powdery_mildew ...\n",
      "[INFO] Processing Strawberry___healthy ...\n",
      "[INFO] Processing Strawberry___Leaf_scorch ...\n",
      "[INFO] Processing Tomato___Bacterial_spot ...\n",
      "[INFO] Processing Tomato___Early_blight ...\n",
      "[INFO] Processing Tomato___healthy ...\n",
      "[INFO] Processing Tomato___Late_blight ...\n",
      "[INFO] Processing Tomato___Leaf_Mold ...\n",
      "[INFO] Processing Tomato___Septoria_leaf_spot ...\n",
      "[INFO] Processing Tomato___Spider_mites Two-spotted_spider_mite ...\n",
      "[INFO] Processing Tomato___Target_Spot ...\n",
      "[INFO] Processing Tomato___Tomato_mosaic_virus ...\n",
      "[INFO] Processing Tomato___Tomato_Yellow_Leaf_Curl_Virus ...\n",
      "[INFO] Image loading completed\n"
     ]
    }
   ],
   "source": [
    "# Fetch images from directory\n",
    "    \n",
    "image_list, label_list = [], []\n",
    "try:\n",
    "    print(\"[INFO] Loading images ...\")\n",
    "    root_dir = listdir(directory_root)\n",
    "    for directory in root_dir :\n",
    "        if directory == \".DS_Store\" :\n",
    "            root_dir.remove(directory)\n",
    "\n",
    "    for plant_folder in root_dir :\n",
    "        plant_disease_folder_list = listdir(f\"{directory_root}/{plant_folder}\")\n",
    "        \n",
    "        for disease_folder in plant_disease_folder_list :\n",
    "            if disease_folder == \".DS_Store\" :\n",
    "                plant_disease_folder_list.remove(disease_folder)\n",
    "\n",
    "        for plant_disease_folder in plant_disease_folder_list:\n",
    "            print(f\"[INFO] Processing {plant_disease_folder} ...\")\n",
    "            plant_disease_image_list = listdir(f\"{directory_root}/{plant_folder}/{plant_disease_folder}/\")\n",
    "            for single_plant_disease_image in plant_disease_image_list :\n",
    "                if single_plant_disease_image == \".DS_Store\" :\n",
    "                    plant_disease_image_list.remove(single_plant_disease_image)\n",
    "\n",
    "            for image in plant_disease_image_list[:200]:\n",
    "                image_directory = f\"{directory_root}/{plant_folder}/{plant_disease_folder}/{image}\"\n",
    "                if image_directory.endswith(\".jpg\") == True or image_directory.endswith(\".JPG\") == True:\n",
    "                    image_list.append(convert_image_to_array(image_directory))\n",
    "                    label_list.append(plant_disease_folder)\n",
    "    print(\"[INFO] Image loading completed\")  \n",
    "except Exception as e:\n",
    "    print(f\"Error : {e}\")"
   ]
  },
  {
   "cell_type": "code",
   "execution_count": 53,
   "metadata": {},
   "outputs": [
    {
     "name": "stdout",
     "output_type": "stream",
     "text": [
      "['Apple___Apple_scab' 'Apple___Black_rot' 'Apple___Cedar_apple_rust'\n",
      " 'Apple___healthy' 'Blueberry___healthy'\n",
      " 'Cherry_(including_sour)___Powdery_mildew'\n",
      " 'Cherry_(including_sour)___healthy'\n",
      " 'Corn_(maize)___Cercospora_leaf_spot Gray_leaf_spot'\n",
      " 'Corn_(maize)___Common_rust_' 'Corn_(maize)___Northern_Leaf_Blight'\n",
      " 'Corn_(maize)___healthy' 'Grape___Black_rot'\n",
      " 'Grape___Esca_(Black_Measles)'\n",
      " 'Grape___Leaf_blight_(Isariopsis_Leaf_Spot)' 'Grape___healthy'\n",
      " 'Orange___Haunglongbing_(Citrus_greening)' 'Peach___Bacterial_spot'\n",
      " 'Peach___healthy' 'Pepper,_bell___Bacterial_spot'\n",
      " 'Pepper,_bell___healthy' 'Potato___Early_blight' 'Potato___Late_blight'\n",
      " 'Potato___healthy' 'Raspberry___healthy' 'Soybean___healthy'\n",
      " 'Squash___Powdery_mildew' 'Strawberry___Leaf_scorch'\n",
      " 'Strawberry___healthy' 'Tomato___Bacterial_spot' 'Tomato___Early_blight'\n",
      " 'Tomato___Late_blight' 'Tomato___Leaf_Mold' 'Tomato___Septoria_leaf_spot'\n",
      " 'Tomato___Spider_mites Two-spotted_spider_mite' 'Tomato___Target_Spot'\n",
      " 'Tomato___Tomato_Yellow_Leaf_Curl_Virus' 'Tomato___Tomato_mosaic_virus'\n",
      " 'Tomato___healthy']\n"
     ]
    }
   ],
   "source": [
    "# Get Size of Processed Image and Transform Image Labels uisng Scikit Learn's LabelBinarizer and print classes \n",
    "\n",
    "image_size = len(image_list)\n",
    "label_binarizer = LabelBinarizer()\n",
    "image_labels = label_binarizer.fit_transform(label_list)\n",
    "pickle.dump(label_binarizer,open('label_transform.pkl', 'wb'))\n",
    "n_classes = len(label_binarizer.classes_)\n",
    "print(label_binarizer.classes_)"
   ]
  },
  {
   "cell_type": "code",
   "execution_count": 54,
   "metadata": {},
   "outputs": [
    {
     "name": "stdout",
     "output_type": "stream",
     "text": [
      "[INFO] Spliting data to train, test\n",
      "Model: \"sequential_3\"\n",
      "_________________________________________________________________\n",
      "Layer (type)                 Output Shape              Param #   \n",
      "=================================================================\n",
      "conv2d_11 (Conv2D)           (None, 44, 44, 32)        896       \n",
      "_________________________________________________________________\n",
      "activation_15 (Activation)   (None, 44, 44, 32)        0         \n",
      "_________________________________________________________________\n",
      "batch_normalization_13 (Batc (None, 44, 44, 32)        128       \n",
      "_________________________________________________________________\n",
      "max_pooling2d_7 (MaxPooling2 (None, 14, 14, 32)        0         \n",
      "_________________________________________________________________\n",
      "dropout_9 (Dropout)          (None, 14, 14, 32)        0         \n",
      "_________________________________________________________________\n",
      "conv2d_12 (Conv2D)           (None, 14, 14, 64)        18496     \n",
      "_________________________________________________________________\n",
      "activation_16 (Activation)   (None, 14, 14, 64)        0         \n",
      "_________________________________________________________________\n",
      "batch_normalization_14 (Batc (None, 14, 14, 64)        256       \n",
      "_________________________________________________________________\n",
      "conv2d_13 (Conv2D)           (None, 14, 14, 64)        36928     \n",
      "_________________________________________________________________\n",
      "activation_17 (Activation)   (None, 14, 14, 64)        0         \n",
      "_________________________________________________________________\n",
      "batch_normalization_15 (Batc (None, 14, 14, 64)        256       \n",
      "_________________________________________________________________\n",
      "max_pooling2d_8 (MaxPooling2 (None, 7, 7, 64)          0         \n",
      "_________________________________________________________________\n",
      "dropout_10 (Dropout)         (None, 7, 7, 64)          0         \n",
      "_________________________________________________________________\n",
      "conv2d_14 (Conv2D)           (None, 7, 7, 128)         73856     \n",
      "_________________________________________________________________\n",
      "activation_18 (Activation)   (None, 7, 7, 128)         0         \n",
      "_________________________________________________________________\n",
      "batch_normalization_16 (Batc (None, 7, 7, 128)         512       \n",
      "_________________________________________________________________\n",
      "conv2d_15 (Conv2D)           (None, 7, 7, 128)         147584    \n",
      "_________________________________________________________________\n",
      "activation_19 (Activation)   (None, 7, 7, 128)         0         \n",
      "_________________________________________________________________\n",
      "batch_normalization_17 (Batc (None, 7, 7, 128)         512       \n",
      "_________________________________________________________________\n",
      "max_pooling2d_9 (MaxPooling2 (None, 3, 3, 128)         0         \n",
      "_________________________________________________________________\n",
      "dropout_11 (Dropout)         (None, 3, 3, 128)         0         \n",
      "_________________________________________________________________\n",
      "flatten_3 (Flatten)          (None, 1152)              0         \n",
      "_________________________________________________________________\n",
      "dense_5 (Dense)              (None, 1024)              1180672   \n",
      "_________________________________________________________________\n",
      "activation_20 (Activation)   (None, 1024)              0         \n",
      "_________________________________________________________________\n",
      "batch_normalization_18 (Batc (None, 1024)              4096      \n",
      "_________________________________________________________________\n",
      "dropout_12 (Dropout)         (None, 1024)              0         \n",
      "_________________________________________________________________\n",
      "dense_6 (Dense)              (None, 38)                38950     \n",
      "_________________________________________________________________\n",
      "activation_21 (Activation)   (None, 38)                0         \n",
      "=================================================================\n",
      "Total params: 1,503,142\n",
      "Trainable params: 1,500,262\n",
      "Non-trainable params: 2,880\n",
      "_________________________________________________________________\n"
     ]
    }
   ],
   "source": [
    "np_image_list = np.array(image_list, dtype=np.float16) / 225.0\n",
    "print(\"[INFO] Spliting data to train, test\")\n",
    "x_train, x_test, y_train, y_test = train_test_split(np_image_list, image_labels, test_size=0.2, random_state = 42) \n",
    "\n",
    "aug = ImageDataGenerator(\n",
    "    rotation_range=25, width_shift_range=0.1,\n",
    "    height_shift_range=0.1, shear_range=0.2, \n",
    "    zoom_range=0.2,horizontal_flip=True, \n",
    "    fill_mode=\"nearest\")\n",
    "\n",
    "model = Sequential()\n",
    "inputShape = (height, width, depth)\n",
    "chanDim = -1\n",
    "if K.image_data_format() == \"channels_first\":\n",
    "    inputShape = (depth, height, width)\n",
    "    chanDim = 1\n",
    "model.add(Conv2D(32, (3, 3), padding=\"same\",input_shape=inputShape))\n",
    "model.add(Activation(\"relu\"))\n",
    "model.add(BatchNormalization(axis=chanDim))\n",
    "model.add(MaxPooling2D(pool_size=(3, 3)))\n",
    "model.add(Dropout(0.25))\n",
    "model.add(Conv2D(64, (3, 3), padding=\"same\"))\n",
    "model.add(Activation(\"relu\"))\n",
    "model.add(BatchNormalization(axis=chanDim))\n",
    "model.add(Conv2D(64, (3, 3), padding=\"same\"))\n",
    "model.add(Activation(\"relu\"))\n",
    "model.add(BatchNormalization(axis=chanDim))\n",
    "model.add(MaxPooling2D(pool_size=(2, 2)))\n",
    "model.add(Dropout(0.25))\n",
    "model.add(Conv2D(128, (3, 3), padding=\"same\"))\n",
    "model.add(Activation(\"relu\"))\n",
    "model.add(BatchNormalization(axis=chanDim))\n",
    "model.add(Conv2D(128, (3, 3), padding=\"same\"))\n",
    "model.add(Activation(\"relu\"))\n",
    "model.add(BatchNormalization(axis=chanDim))\n",
    "model.add(MaxPooling2D(pool_size=(2, 2)))\n",
    "model.add(Dropout(0.25))\n",
    "model.add(Flatten())\n",
    "model.add(Dense(1024))\n",
    "model.add(Activation(\"relu\"))\n",
    "model.add(BatchNormalization())\n",
    "model.add(Dropout(0.5))\n",
    "model.add(Dense(n_classes))\n",
    "model.add(Activation(\"softmax\"))\n",
    "model.summary()\n"
   ]
  },
  {
   "cell_type": "code",
   "execution_count": 55,
   "metadata": {},
   "outputs": [
    {
     "name": "stdout",
     "output_type": "stream",
     "text": [
      "[INFO] training network...\n",
      "Epoch 1/25\n",
      "190/190 [==============================] - 53s 277ms/step - loss: 0.1146 - accuracy: 0.9711 - val_loss: 0.3801 - val_accuracy: 0.9485\n",
      "Epoch 2/25\n",
      "190/190 [==============================] - 54s 286ms/step - loss: 0.0856 - accuracy: 0.9741 - val_loss: 0.2019 - val_accuracy: 0.9603\n",
      "Epoch 3/25\n",
      "190/190 [==============================] - 53s 278ms/step - loss: 0.0741 - accuracy: 0.9764 - val_loss: 0.1098 - val_accuracy: 0.9698\n",
      "Epoch 4/25\n",
      "190/190 [==============================] - 53s 277ms/step - loss: 0.0673 - accuracy: 0.9778 - val_loss: 0.1734 - val_accuracy: 0.9644\n",
      "Epoch 5/25\n",
      "190/190 [==============================] - 54s 285ms/step - loss: 0.0592 - accuracy: 0.9799 - val_loss: 0.1158 - val_accuracy: 0.9707\n",
      "Epoch 6/25\n",
      "190/190 [==============================] - 54s 283ms/step - loss: 0.0572 - accuracy: 0.9804 - val_loss: 0.0712 - val_accuracy: 0.9782\n",
      "Epoch 7/25\n",
      "190/190 [==============================] - 54s 282ms/step - loss: 0.0509 - accuracy: 0.9826 - val_loss: 0.1022 - val_accuracy: 0.9730\n",
      "Epoch 8/25\n",
      "190/190 [==============================] - 53s 280ms/step - loss: 0.0478 - accuracy: 0.9834 - val_loss: 0.0563 - val_accuracy: 0.9811\n",
      "Epoch 9/25\n",
      "190/190 [==============================] - 56s 294ms/step - loss: 0.0461 - accuracy: 0.9837 - val_loss: 0.0907 - val_accuracy: 0.9742\n",
      "Epoch 10/25\n",
      "190/190 [==============================] - 54s 284ms/step - loss: 0.0436 - accuracy: 0.9844 - val_loss: 0.0400 - val_accuracy: 0.9863\n",
      "Epoch 11/25\n",
      "190/190 [==============================] - 55s 288ms/step - loss: 0.0412 - accuracy: 0.9854 - val_loss: 0.0521 - val_accuracy: 0.9823\n",
      "Epoch 12/25\n",
      "190/190 [==============================] - 54s 285ms/step - loss: 0.0385 - accuracy: 0.9863 - val_loss: 0.0744 - val_accuracy: 0.9790\n",
      "Epoch 13/25\n",
      "190/190 [==============================] - 56s 293ms/step - loss: 0.0363 - accuracy: 0.9870 - val_loss: 0.0920 - val_accuracy: 0.9765\n",
      "Epoch 14/25\n",
      "190/190 [==============================] - 54s 287ms/step - loss: 0.0352 - accuracy: 0.9872 - val_loss: 0.1069 - val_accuracy: 0.9728\n",
      "Epoch 15/25\n",
      "190/190 [==============================] - 54s 286ms/step - loss: 0.0318 - accuracy: 0.9884 - val_loss: 0.0541 - val_accuracy: 0.9822\n",
      "Epoch 16/25\n",
      "190/190 [==============================] - 54s 282ms/step - loss: 0.0321 - accuracy: 0.9884 - val_loss: 0.1068 - val_accuracy: 0.9738\n",
      "Epoch 17/25\n",
      "190/190 [==============================] - 54s 283ms/step - loss: 0.0306 - accuracy: 0.9890 - val_loss: 0.1028 - val_accuracy: 0.9747\n",
      "Epoch 18/25\n",
      "190/190 [==============================] - 62s 325ms/step - loss: 0.0300 - accuracy: 0.9891 - val_loss: 0.1440 - val_accuracy: 0.9687\n",
      "Epoch 19/25\n",
      "190/190 [==============================] - 62s 324ms/step - loss: 0.0283 - accuracy: 0.9899 - val_loss: 0.0680 - val_accuracy: 0.9800\n",
      "Epoch 20/25\n",
      "190/190 [==============================] - 62s 326ms/step - loss: 0.0292 - accuracy: 0.9895 - val_loss: 0.0723 - val_accuracy: 0.9788\n",
      "Epoch 21/25\n",
      "190/190 [==============================] - 58s 308ms/step - loss: 0.0276 - accuracy: 0.9900 - val_loss: 0.0437 - val_accuracy: 0.9859\n",
      "Epoch 22/25\n",
      "190/190 [==============================] - 60s 318ms/step - loss: 0.0267 - accuracy: 0.9906 - val_loss: 0.0810 - val_accuracy: 0.9779\n",
      "Epoch 23/25\n",
      "190/190 [==============================] - 60s 315ms/step - loss: 0.0251 - accuracy: 0.9908 - val_loss: 0.0570 - val_accuracy: 0.9824\n",
      "Epoch 24/25\n",
      "190/190 [==============================] - 59s 313ms/step - loss: 0.0246 - accuracy: 0.9910 - val_loss: 0.0288 - val_accuracy: 0.9902\n",
      "Epoch 25/25\n",
      "190/190 [==============================] - 59s 309ms/step - loss: 0.0236 - accuracy: 0.9915 - val_loss: 0.0248 - val_accuracy: 0.9920\n"
     ]
    }
   ],
   "source": [
    "opt = Adam(lr=INIT_LR, decay=INIT_LR / EPOCHS)\n",
    "# distribution\n",
    "model.compile(loss=\"binary_crossentropy\", optimizer=opt,metrics=[\"accuracy\"])\n",
    "# train the network\n",
    "print(\"[INFO] training network...\")\n",
    "history = model.fit_generator(\n",
    "    aug.flow(x_train, y_train, batch_size=BS),\n",
    "    validation_data=(x_test, y_test),\n",
    "    steps_per_epoch=len(x_train) // BS,\n",
    "    epochs=EPOCHS, verbose=1\n",
    "    )\n"
   ]
  },
  {
   "cell_type": "code",
   "execution_count": null,
   "metadata": {},
   "outputs": [],
   "source": []
  },
  {
   "cell_type": "code",
   "execution_count": 56,
   "metadata": {},
   "outputs": [
    {
     "data": {
      "image/png": "[encoded data removed]",
      "text/plain": [
       "<Figure size 432x288 with 1 Axes>"
      ]
     },
     "metadata": {
      "needs_background": "light"
     },
     "output_type": "display_data"
    },
    {
     "data": {
      "image/png": "[encoded data removed]",
      "text/plain": [
       "<Figure size 432x288 with 1 Axes>"
      ]
     },
     "metadata": {
      "needs_background": "light"
     },
     "output_type": "display_data"
    }
   ],
   "source": [
    "# Plot the train and val curve\n",
    "\n",
    "acc = history.history['accuracy']\n",
    "val_acc = history.history['val_accuracy']\n",
    "loss = history.history['loss']\n",
    "val_loss = history.history['val_loss']\n",
    "epochs = range(1, len(acc) + 1)\n",
    "#Train and validation accuracy\n",
    "plt.plot(epochs, acc, 'b', label='Training accurarcy')\n",
    "plt.plot(epochs, val_acc, 'r', label='Validation accurarcy')\n",
    "plt.title('Training and Validation accurarcy')\n",
    "plt.legend()\n",
    "\n",
    "plt.figure()\n",
    "#Train and validation loss\n",
    "plt.plot(epochs, loss, 'b', label='Training loss')\n",
    "plt.plot(epochs, val_loss, 'r', label='Validation loss')\n",
    "plt.title('Training and Validation loss')\n",
    "plt.legend()\n",
    "plt.show()"
   ]
  },
  {
   "cell_type": "code",
   "execution_count": 57,
   "metadata": {},
   "outputs": [
    {
     "name": "stdout",
     "output_type": "stream",
     "text": [
      "[INFO] Calculating model accuracy\n",
      "1520/1520 [==============================] - 3s 2ms/step\n",
      "Test Accuracy: 99.19841289520264\n"
     ]
    }
   ],
   "source": [
    "# Model Accuracy\n",
    "\n",
    "print(\"[INFO] Calculating model accuracy\")\n",
    "scores = model.evaluate(x_test, y_test)\n",
    "print(f\"Test Accuracy: {scores[1]*100}\")"
   ]
  },
  {
   "cell_type": "code",
   "execution_count": 59,
   "metadata": {},
   "outputs": [
    {
     "name": "stdout",
     "output_type": "stream",
     "text": [
      "[INFO] Saving model...\n"
     ]
    }
   ],
   "source": [
    "# save the model to disk\n",
    "\n",
    "print(\"[INFO] Saving model...\")\n",
    "from keras.models import load_model\n",
    "model.save('model.h5')"
   ]
  },
  {
   "cell_type": "code",
   "execution_count": 60,
   "metadata": {},
   "outputs": [],
   "source": [
    "from keras.models import load_model\n",
    "model = load_model('C:/Users/User/Desktop/deloitte/model.h5')\n",
    "\n",
    "# Mention name of the disease into list.\n",
    "Classes = ['Apple___Apple_scab', 'Apple___Black_rot', 'Apple___Cedar_apple_rust',\n",
    " 'Apple___healthy', 'Blueberry___healthy',\n",
    " 'Cherry_(including_sour)___Powdery_mildew',\n",
    " 'Cherry_(including_sour)___healthy',\n",
    " 'Corn_(maize)___Cercospora_leaf_spot Gray_leaf_spot',\n",
    " 'Corn_(maize)___Common_rust_', 'Corn_(maize)___Northern_Leaf_Blight',\n",
    " 'Corn_(maize)___healthy', 'Grape___Black_rot',\n",
    " 'Grape___Esca_(Black_Measles)',\n",
    " 'Grape___Leaf_blight_(Isariopsis_Leaf_Spot)', 'Grape___healthy',\n",
    " 'Orange___Haunglongbing_(Citrus_greening)', 'Peach___Bacterial_spot',\n",
    " 'Peach___healthy', 'Pepper,_bell___Bacterial_spot',\n",
    " 'Pepper,_bell___healthy', 'Potato___Early_blight', 'Potato___Late_blight',\n",
    " 'Potato___healthy', 'Raspberry___healthy', 'Soybean___healthy',\n",
    " 'Squash___Powdery_mildew', 'Strawberry___Leaf_scorch',\n",
    " 'Strawberry___healthy', 'Tomato___Bacterial_spot', 'Tomato___Early_blight',\n",
    " 'Tomato___Late_blight', 'Tomato___Leaf_Mold', 'Tomato___Septoria_leaf_spot',\n",
    " 'Tomato___Spider_mites Two-spotted_spider_mite', 'Tomato___Target_Spot',\n",
    " 'Tomato___Tomato_Yellow_Leaf_Curl_Virus', 'Tomato___Tomato_mosaic_virus',\n",
    " 'Tomato___healthy']\n"
   ]
  },
  {
   "cell_type": "code",
   "execution_count": 73,
   "metadata": {
    "scrolled": true
   },
   "outputs": [
    {
     "name": "stdout",
     "output_type": "stream",
     "text": [
      "[37]\n",
      "Tomato___healthy\n",
      "\n",
      "*********************************************************************************************************************\n",
      "\n"
     ]
    }
   ],
   "source": [
    "img = 'C:/Users/User/Desktop/deloitte/data/test/test/CornCommonRust2.JPG'\n",
    "img_i = convert_image_to_array(img)\n",
    "img_in = np.array([img_i], dtype=np.float16) / 40.0\n",
    "arr = model.predict_classes(img_in)\n",
    "print(arr)\n",
    "for i in arr:\n",
    "    a = Classes[i]\n",
    "    print(a)\n",
    "    if a=='Apple___Apple_scab':\n",
    "        print()\n",
    "        print(\"Symptoms:\",'Yellow or chlorotic spots on leaves; severely infected leaves turn yellow and drop from tree.')\n",
    "        print()\n",
    "        print(\"Cause:\",'Fungus')\n",
    "        print()\n",
    "        print(\"Treatment:\",'Remove all leaves dropped from tree in the fall and compost to prevent any diseases surviving in debris; application of zinc and fertilizer grade urea in the Fall may be necessary to speed leaf drop, lime should then be added to fallen leaves; fungicide application may be necessary in areas where leaves remain wet for periods in excess of 9 hours; fungicides such as copper soaps and Bordeaux mixture should be applied if there is a chance of wet period as soon as leaf tips emerge.')\n",
    "    elif a=='Apple___Black_rot':\n",
    "        print()\n",
    "        print(\"Symptoms:\",' Red flecks, purple lesions and/or brown black rings on fruit.')\n",
    "        print()\n",
    "        print(\"Cause:\",'Fungus')\n",
    "        print()\n",
    "        print(\"Treatment:\",'Remove dead wood, mummify fruit and cankers from trees to reduce spread of disease; burn any prunings that have been made from the tree; disease can be controlled by applying fungicides from silver tip to harvest.')\n",
    "    elif a=='Apple___Cedar_apple_rust':\n",
    "        print()\n",
    "        print(\"Symptoms:\",'Bright orange or yellow patches on top side of leaves surrounded by a red band and small black spots in the center.')\n",
    "        print()\n",
    "        print(\"Cause:\",'Fungus')\n",
    "        print()\n",
    "        print(\"Treatment:\",'Plant resistant varieties where possible; remove nearby red cedar; if growing susceptible varieties in proximity to red cedar follow a fungicide program.')\n",
    "    elif a=='Apple___healthy':\n",
    "        pass\n",
    "    elif a=='Blueberry___healthy':\n",
    "        pass\n",
    "    elif a=='Cherry_(including_sour)___Powdery_mildew':\n",
    "        print()\n",
    "        print(\"Symptons:\",'Light colored circular lesions on leaves inside tree canopy which develop a powdery appearance; lesions may coalesce to cover leaf; if infection is severe, leaves may blister.')\n",
    "        print()\n",
    "        print(\"Cause:\",'Fungus')\n",
    "        print()\n",
    "        print(\"Treatment:\",'Cultural practices which promote good air circulation around tree canopies to lower humidity. Also using some appropriate fungicides.')\n",
    "    elif a=='Cherry_(including_sour)___healthy':\n",
    "        pass\n",
    "    elif a=='Corn_(maize)___Cercospora_leaf_spot Gray_leaf_spot':\n",
    "        print()\n",
    "        print(\"Symptons:\",'Brown Spots with yellow rings throughout the leaf during the growing period of the Cassava. Lesions that are 0.15-0.2 cm in diameter. Serious cases can lead to holes throughout the lesions on the leaf.')\n",
    "        print()\n",
    "        print(\"Cause:\",'Fungus')\n",
    "        print()\n",
    "        print(\"Treatment:\",'Plant corn hybrids with resistance to the disease; crop rotation and plowing debris into soil may reduce levels of inoculum in the soil but may not provide control in areas where the disease is prevalent; foliar fungicides may be economically viable for some high yeilding susceptible hybrids.')\n",
    "    elif a=='Corn_(maize)___Common_rust_':\n",
    "        print()\n",
    "        print(\"Symptons:\",'Oval or elongated cinnamon brown pustules on upper and lower surfaces of leaves; pustules rupture and release powdery red spores; pustules turn dark brown-black as they mature and release dark brown powdery spores; if infection is severe, pustules may appear on tassels.')\n",
    "        print()\n",
    "        print(\"Cause:\",'Fungus')\n",
    "        print()\n",
    "        print(\"Treatment:\",'The most effective method of controlling the disease is to plant resistant hybrids; application of appropriate fungicides may provide some degree on control and reduce disease severity.')\n",
    "    elif a=='Corn_(maize)___Northern_Leaf_Blight':\n",
    "        print()\n",
    "        print(\"Symptons:\",'In the beginning we will notice elliptical gray-green lesions on leaves. As the disease process this lesions become pale gray to tan color. Later stage the lesions looks dirty due to dark gray spores particularly under lower leaf surface.')\n",
    "        print()\n",
    "        print(\"Cause:\",'Fungus')\n",
    "        print()\n",
    "        print(\"Treatment:\",'Follow proper tillage to reduce fungus inoculum from crop debris. Follow crop rotation with non host crop. Grow available resistant varieties. In severe case of disease incidence apply suitable fungicide.')\n",
    "    elif a=='Corn_(maize)___healthy':\n",
    "        pass\n",
    "    elif a=='Grape___Black_rot':\n",
    "        print()\n",
    "        print(\"Symptons:\",'Brown lesions on the leaves that develop black dots (pycnidia); grapes have light spots that eventually form pycnidia; grapes harden and turn black.')\n",
    "        print()\n",
    "        print(\"Cause:\",'Fungus')\n",
    "        print()\n",
    "        print(\"Treatment:\",'Remove all mummified fruit from vines during dormant pruning; cultivate soil during bud break to bury mummies and reduce inoculant; application of appropriate fungicides can help control the disease.')\n",
    "    elif a=='Grape___Esca_(Black_Measles)':\n",
    "        print()\n",
    "        print(\"Symptons:\",'Symptom appears on leaves, trunk, canes and berries. On leaves we will see intervenaial striping looks like tiger strips. On berries we will see superficial spots and later may coalesce making berries appear black.')\n",
    "        print()\n",
    "        print(\"Cause:\",'Fungus')\n",
    "        print()\n",
    "        print(\"Treatment:\",'Remove the infected berries, leaves and trunk and destroy them. Protect the prune wounds to minimize fungal infection using wound sealant (5% boric acid in acrylic paint) or essential oil or suitable fungicides.')\n",
    "    elif a=='Grape___Leaf_blight_(Isariopsis_Leaf_Spot)':\n",
    "        print()\n",
    "        print(\"Symptons:\",'On leaf surface we will see lesions which are irregularly shaped (2 to 25 mm in diameter). Initially lesions are dull red to brown in color turn black later. If disease is severe this lesions may coalesce. On berries we can see symptom similar to black rot but the entire clusters will collapse.')\n",
    "        print()\n",
    "        print(\"Cause:\",'Fungus')\n",
    "        print()\n",
    "        print(\"Treatment:\",'Fungicides sprayed for other diseases in the season may help to reduce this disease.')\n",
    "    elif a=='Grape___healthy':\n",
    "        pass\n",
    "    elif a=='Orange___Haunglongbing_(Citrus_greening)':\n",
    "        print()\n",
    "        print(\"Symptons:\",'Leaf symptoms of citrus greening include yellowing of one limb or one area of canopy, yellowing of leaf veins. Fruits may drop prematurely and are often mishappen and lopsided; fruit has a bitter, salty taste.')\n",
    "        print()\n",
    "        print(\"Cause:\",'Bacteria')\n",
    "        print()\n",
    "        print(\"Treatment:\",'Preventing the disease occurring in the first place and this is achieved through strict quarantining to prevent the introduction of citrus psyllids to areas which are currently free of the pest. Areas which are subject to quarantine have restrictions placed on the movement of citrus plants, fruit, equipment and items made from citrus. Infected trees should be removed as quickly as possible from plantations and destroyed.')\n",
    "    elif a=='Peach___Bacterial_spot':\n",
    "        print()\n",
    "        print(\"Symptons:\",'Water soaked, angular gray lesions on the underside of the leaves which turn purple and necrotic in the center and cause a shot hole appearance if lesion center drops out. Lesions on fruit begin as small brown, water-soaked lesions which may exude gum')\n",
    "        print()\n",
    "        print(\"Cause:\",'Bacterium')\n",
    "        print()\n",
    "        print(\"Treatment:\",'Avoid planting susceptible peach varieties in areas where disease is known. Protective copper applications in the Fall prior to leaf drop and/or application in early growing season may help prevent the disease; care should be taken as peach trees are very sensitive to copper.')\n",
    "    elif a=='Peach___healthy':\n",
    "        pass\n",
    "    elif a=='Pepper__bell___Bacterial_spot':\n",
    "        print()\n",
    "        print(\"Symptons:\",'Water-soaked lesions that dry out and turn brown forming on the underside of the leaves; raised brown cankers on stems; cracked brown lesions on fruit.')\n",
    "        print()\n",
    "        print(\"Cause:\",'Bacterium')\n",
    "        print()\n",
    "        print(\"Treatment:\",'A plant with bacterial spot cannot be cured. Remove symptomatic plants from the field or greenhouse to prevent the spread of bacteria to healthy plants. Burn, bury or hot compost the affected plants. Spray every 10-14 days with fixed copper (organic fungicide) to slow down the spread of infection.')\n",
    "    elif a=='Pepper__bell___healthy':\n",
    "        pass\n",
    "    elif a=='Potato___Early_blight':\n",
    "        print()\n",
    "        print(\"Symptoms:\",'Dark lesions with yellow border which may form concentric rings of raised and sunken tissue on the leaves and stems; lesions initially circular but become angular; leaves become necrotic but remain attached to plant; dark, dry lesions on tubers with leathery or corky texture and watery yellow0green margins')\n",
    "        print()\n",
    "        print(\"Cause:\",'Fungus')\n",
    "        print()\n",
    "        print(\"Treatment:\",'For best control, apply copper-based fungicides early like liquid copper, two weeks before disease normally appears or when weather forecasts predict a long period of wet weather. Alternatively, begin treatment when disease first appears, and repeat every 7-10 days for as long as needed.Burn or bag infected plant parts. Do NOT compost.')\n",
    "        print()\n",
    "    elif a=='Potato___Late_blight':\n",
    "        print()\n",
    "        print(\"Symptoms:\",'Irregularly shaped spreading brown lesions on leaves with distinctive white fluffy sporulation at lesion margins on the underside of the leaf in wet conditions. In dry condition the lesions dry up and go dark brown with collapsed tissue; water-soaked dark green to brown lesions on stems also with characteristic white sporulation; later in infection leaves and petioles completely rotted; severely affected plants may have an slightly sweet distinctive odor; red-brown firm lesions on tubers extending several centimeters into tissue; lesions may be slightly sunken in appearance and often lead to secondary bacterial rots.')\n",
    "        print()\n",
    "        print(\"Cause:\",'Oomycete')\n",
    "        print()\n",
    "        print(\"Treatment:\",'Safely treat fungal problems with SERENADE Garden. This broad spectrum bio-fungicide uses a patented strain of Bacillus subtilis and is approved for organic use. Best of all, SERENADE is completely non-toxic to honey bees and beneficial insects.')\n",
    "        print()\n",
    "    elif a=='Potato___healthy':\n",
    "        pass\n",
    "    elif a=='Tomato___Bacterial_spot':\n",
    "        print(\"Symptoms:\",'Bacterial spot lesions starts out as small water-soaked spots; lesions become more numerous and coalesce to form necrotic areas on the leaves giving them a blighted appearance; of leaves drop from the plant severe defoliation can occur leaving the fruit susceptible to sunscald; mature spots have a greasy appearance and may appear transparent when held up to light; centers of lesions dry up and fall out of the leaf; blighted leaves often remain attached to the plant and give it a blighted appearance; fruit infections start as a slightly raised blister; lesions may have a faint halo which eventually disappears; lesions on fruit may have a raised margin and sunken center which gives the fruit a scabby appearance.')\n",
    "        print()\n",
    "        print(\"Cause:\",'Bacteria')\n",
    "        print()\n",
    "        print(\"Treatment:\",'A plant with bacterial spot cannot be cured.  Remove symptomatic plants from the field or greenhouse to prevent the spread of bacteria to healthy plants.  Burn, bury or hot compost the affected plants.to prevent spread, DO NOT handle plants when they are wet (e.g., from dew) and routinely sterilize tools with either 10% bleach solution or (better) 70 percent alcohol (e.g., rubbing alcohol).  Where bacterial spot has been a recurring problem, consider using preventative applications of copper-based products registered for use on tomato, especially during warm, wet periods. ')\n",
    "        print()\n",
    "    elif a=='Tomato_Early_blight':\n",
    "        print(\"Symptoms:\",'Early blight symptoms start as oval shaped lesions with a yellow chlorotic region across the lesion; concentric leaf lesions may be seen on infected leaves; leaf tissue between veins is destroyed; severe infections can cause leaves to completely collapse; as the disease progresses leaves become severely blighted leading to reduced yield; tomato stems may become infected with the fungus leading to Alternaria stem canker; initial symptoms of of stem canker are the development of dark brown regions on the stem; stem cankers may enlarge to girdle the whole stem resulting in the death of the whole plant; brown streaks can be found in the vascular tissue above and below the canker region; fruit symptoms include small black v-shaped lesions at the shoulders of the fruit (the disease is also known black shoulder); lesions may also appear on the fruit as dark flecks with concentric ring pattern; fruit lesions can seen in the field or may develop during fruit transit to the market; the lesions may have a velvety appearance caused by sporulation of the fungus')\n",
    "        print()\n",
    "        print(\"Cause:\",'Fungus')\n",
    "        print()\n",
    "        print(\"Treatment:\",'For best control, apply copper-based fungicides early like liquid copper, two weeks before disease normally appears or when weather forecasts predict a long period of wet weather. Alternatively, begin treatment when disease first appears, and repeat every 7-10 days for as long as needed.Burn or bag infected plant parts. Do NOT compost.')\n",
    "        print()\n",
    "    elif a=='Tomato_Late_blight':\n",
    "        print(\"Symptoms:\",'Late blight affects all aerial parts of the tomato plant; initial symptoms of the disease appear as water-soaked green to black areas on leaves which rapidly change to brown lesions; fluffy white fungal growth may appear on infected areas and leaf undersides during wet weather; as the disease progresses, foliage becomes becomes shriveled and brown and the entire plant may die; fruit lesions start as irregularly shaped water soaked regions and change to greasy spots; entire fruit may become infected and a white fuzzy growth may appear during wet weather.')\n",
    "        print()\n",
    "        print(\"Cause:\",'Oomycete')\n",
    "        print()\n",
    "        print(\"Treatment:\",'Safely treat fungal problems with SERENADE Garden. This broad spectrum bio-fungicide uses a patented strain of Bacillus subtilis and is approved for organic use. Best of all, SERENADE is completely non-toxic to honey bees and beneficial insects.')\n",
    "        print()\n",
    "    elif a=='Tomato_Leaf_Mold':\n",
    "        print(\"Symptoms:\",'The older leaves exhibit pale greenish to yellow spots (without distinguishable margins) on upper surface. Whereas the lower portion of this spots exhibit green to brown velvety fungal growth. As the disease progress the spots may coalesce and appear brown. The infected leaves become wither and die but stay attached to the plant. The fungus also infects flowers and fruits. The affected flowers become black and drop off. The affected fruit intially shows smooth black irregular area on the stem end but later it becomes sunken, leathery and dry.')\n",
    "        print()\n",
    "        print(\"Cause:\",'Fungus')\n",
    "        print()\n",
    "        print(\"Treatment:\",'Minimize long periods of leaf wetness by avoiding wetting the foliage and the use of fans to circulate air.Staking and pruning to increase ventilation reduces disease spread.Maintain night temperatures in the greenhouse higher than outside temperatures.Fungicides effectively control this disease.')\n",
    "        print()\n",
    "    elif a=='Tomato___Septoria_leaf_spot':\n",
    "        print(\"Symptoms:\",'Symptoms may occur at any stage of tomato development and begin as small, water-soaked spots or circular grayish-white spots on the underside of older leaves; spots have a grayish center and a dark margin and they may colasece; fungal fruiting bodies are visible as tiny black specks in the center of spot; spots may also appear on stems, fruit calyxes, and flowers.')\n",
    "        print()\n",
    "        print(\"Cause:\",'Fungus')\n",
    "        print()\n",
    "        print(\"Treatment:\",'Remove infected leaves immediately, and be sure to wash your hands thoroughly before working with uninfected plants.Fungicides containing either copper or potassium bicarbonate will help prevent the spreading of the disease. Begin spraying as soon as the first symptoms appear and follow the label directions for continued management.One of the least toxic and most effective chemical fungicide that can be used here is chlorothalonil (sold under the names Fungonil and Daconil).')\n",
    "        print()\n",
    "    elif a=='Tomato_Spider_mites_Two_spotted_spider_mite':\n",
    "        print(\"Symptoms:\",'Leaves stippled with yellow; leaves may appear bronzed; webbing covering leaves; mites may be visible as tiny moving dots on the webs or underside of leaves, best viewed using a hand lens; usually not spotted until there are visible symptoms on the plant; leaves turn yellow and may drop from plant.')\n",
    "        print()\n",
    "        print(\"Cause:\",'Arachnid')\n",
    "        print()\n",
    "        print(\"Treatment:\",'bifenazate (Acramite): Group UN, a long residual nerve poison,abamectin (Agri-Mek): Group 6, derived from a soil bacterium,spirotetramat (Movento): Group 23, mainly affects immature stages,spiromesifen (Oberon 2SC): Group 23, mainly affects immature stages,insecticidal soap (M-Pede),neem oil (Trilogy),soybean oil (Golden Pest Spray Oil).')\t\n",
    "        print()\n",
    "    elif a=='Tomato___Target_Spot':\n",
    "        print(\"Symptoms:\",'The fungus infects all parts of plant. Infected leaves shows small, pinpoint, water soaked spots initially. As the disease progress the spots enlarge to become necrotic lesions with conspicuous concentric circles, dark margins and light brown centers. Whereas the fruits exhibit brown, slightly sunken flecks in the beginning but later the lesions become large pitted appearance.')\n",
    "        print()\n",
    "        print(\"Cause:\",'Fungus')\n",
    "        print()\n",
    "        print(\"Treatment:\",'The products to use are chlorothalonil, copper oxychloride or mancozeb. Treatment should start when the first spots are seen.')\n",
    "        print()\n",
    "    elif a=='Tomato___Tomato_Yellow_Leaf_Curl_Virus':\n",
    "        print(\"Symptoms:\",'The infected leaves become reduced in size, curl upward, appear crumpled and show yellowing of veins and leaf margins. The internodes become shorter and whole plant appear stunted and bushy. The whole plant stand erect with only upright growth. The flowers may not develop and drop off.')\n",
    "        print()\n",
    "        print(\"Cause:\",'Virus')\n",
    "        print()\n",
    "        print(\"Treatment:\",'Use a neonicotinoid insecticide, such as dinotefuran (Venom) imidacloprid (AdmirePro, Alias, Nuprid, Widow, and others) or thiamethoxam (Platinum), as a soil application or through the drip irrigation system at transplanting of tomatoes.Prevent the spread of any whiteflies to healthy plants.')\n",
    "        print()\n",
    "    elif a=='Tomato___Tomato_mosaic_virus':\n",
    "        print()\n",
    "        print(\"Symptoms:\",'Symptoms can occur at any growth stage and any part of the plant can be affected; infected leaves generally exhibit a dark green mottling or mosaic; some strains of the virus can cause yellow mottling on the leaves; young leaves may be stunted or distorted; severely infected leaves may have raised green areas; fruit yields are reduced in infected plants; green fruit may have yellow blotches or necrotic spots; dark necrotic streaks may appear on the stems, petioles leaves and fruit.')\n",
    "        print()\n",
    "        print(\"Cause:\",'Virus')\n",
    "        print()\n",
    "        print(\"Treatment:\",'Plant varieties that are resistant to the virus; heat treating seeds at 70°C (158°F) for 4 days or at 82–85°C (179.6–185°F) for 24 hours will help to eliminate any virus particles on the surface of the seeds; soaking seed for 15 min in 100 g/l of tri-sodium phosphate solution (TSP) can also eliminate virus particles - seeds should be rinsed thoroughly and laid out to dry after this treatment; if the virus is confirmed in the field, infected plants should be removed and destroyed to limit further spread; plant tomato on a 2-year rotation, avoiding susceptible crops such as peppers, eggplant, cucurbits and tobacco; disinfect all equipment when moving from infected areas of the field.')\n",
    "        print()\n",
    "    elif a=='Tomato___healthy':\n",
    "        pass\n",
    "    elif a=='Strawberry___healthy':\n",
    "        pass\n",
    "    elif a=='Strawberry___Leaf_scorch':\n",
    "        print()\n",
    "        print(\"Symptoms:\",'Irregular dark purple or brown blotches on upper leaf surface which may colaesce to produce large purplish brown patches; tissue between blotches may turn purple or red; lesions may also develop on flowers and fruits; affected petals may wither and drop from plant; lesions may girdle peduncles causing death of fruit.')\n",
    "        print()\n",
    "        print(\"Cause:\",'Fungus')\n",
    "        print()\n",
    "        print(\"Treatment:\",'Plant resistant varieties; regular renewal of plants; plant in an area with good air circulation and drainage in full sun; remove all foliage from plants at harvest; application of appropriate foliar fungicide may be required to provide control.')\n",
    "        print()\n",
    "    elif a=='Squash___Powdery_mildew':\n",
    "        print()\n",
    "        print(\"Symptoms:\",'White powdery growth on the upper surfaces of leaves and stems; infected areas stunted and distorted.')\n",
    "        print()\n",
    "        print(\"Cause:\",'Fungi')\n",
    "        print()\n",
    "        print(\"Treatment:\",'Plant in sites with good air circulation and sun exposure; do not overcrowd plants; sanitize equipment regularly.')\n",
    "        print()\n",
    "    elif a=='Soybean___healthy':\n",
    "        pass\n",
    "    elif a=='Raspberry___healthy':\n",
    "        pass\n",
    "    print()\n",
    "    print(\"*********************************************************************************************************************\")\n",
    "    print()"
   ]
  },
  {
   "cell_type": "code",
   "execution_count": 70,
   "metadata": {},
   "outputs": [
    {
     "name": "stdout",
     "output_type": "stream",
     "text": [
      "[[0 0 0 0 0 0 0 0 1 0 0 0 0 0 0 0 0 0 0 0 0 0 0 0 0 0 0 0 0 0 0 0 0 0 0 0\n",
      "  0 0]]\n"
     ]
    }
   ],
   "source": [
    "print(y_test[29:30])"
   ]
  },
  {
   "cell_type": "code",
   "execution_count": 21,
   "metadata": {},
   "outputs": [
    {
     "data": {
      "text/plain": [
       "(1, 256, 256, 3)"
      ]
     },
     "execution_count": 21,
     "metadata": {},
     "output_type": "execute_result"
    }
   ],
   "source": [
    "img = 'C:/Users/User/Desktop/charan.JPG'\n",
    "img_i = convert_image_to_array(img)\n",
    "img_in = np.array([img_i], dtype=np.float16) / 225.0\n",
    "img_in.shape"
   ]
  },
  {
   "cell_type": "code",
   "execution_count": 1,
   "metadata": {},
   "outputs": [
    {
     "name": "stderr",
     "output_type": "stream",
     "text": [
      "a plant_disease_detection_model.h5\n"
     ]
    }
   ],
   "source": [
    "!tar -zcvf plant_disease_detection_model.tgz plant_disease_detection_model.h5"
   ]
  },
  {
   "cell_type": "code",
   "execution_count": 3,
   "metadata": {
    "scrolled": true
   },
   "outputs": [],
   "source": [
    "import cv2\n",
    "def convert_image_to_array(image_dir):\n",
    "    try:\n",
    "        image = cv2.imread(image_dir)  #cv2 used as keword for OpenCV Library already imported in main code\n",
    "        if image is not None:\n",
    "            image = cv2.resize(image, default_image_size)\n",
    "            return img_to_array(image)\n",
    "        else:\n",
    "            return np.array([])\n",
    "    except Exception as e:\n",
    "        print(f\"Error : {e}\")\n",
    "        return None\n"
   ]
  },
  {
   "cell_type": "code",
   "execution_count": 7,
   "metadata": {},
   "outputs": [],
   "source": [
    "im = 'C:/Users/User/Desktop/deloitte/data/test/test/AppleCedarRust1.JPG'\n",
    "ima = convert_image_to_array(im)\n",
    "image = np.array([ima], dtype=np.float16) / 225.0"
   ]
  },
  {
   "cell_type": "code",
   "execution_count": 6,
   "metadata": {},
   "outputs": [],
   "source": [
    "# import numpy as np\n",
    "# a = image.tolist()\n",
    "# b = json.dumps(a)\n",
    "# print(type(b))\n"
   ]
  },
  {
   "cell_type": "code",
   "execution_count": null,
   "metadata": {},
   "outputs": [],
   "source": []
  },
  {
   "cell_type": "code",
   "execution_count": 4,
   "metadata": {},
   "outputs": [],
   "source": [
    "# import json\n",
    "# from json import JSONEncoder\n",
    "# import numpy\n",
    "\n",
    "# class NumpyArrayEncoder(JSONEncoder):\n",
    "#     def default(self, obj):\n",
    "#         if isinstance(obj, numpy.ndarray):\n",
    "#             return obj.tolist()\n",
    "#         return JSONEncoder.default(self, obj)\n",
    "\n",
    "\n",
    "\n",
    "# # Serialization\n",
    "# numpyData = {\"array\": image}\n",
    "# encodedNumpyData = json.dumps(numpyData, cls=NumpyArrayEncoder)  # use dump() to write array into file\n",
    "# print(\"Printing JSON serialized NumPy array\")\n",
    "# print(encodedNumpyData)\n"
   ]
  },
  {
   "cell_type": "code",
   "execution_count": 5,
   "metadata": {},
   "outputs": [],
   "source": [
    "# import urllib3, requests, json\n",
    "# img = 'C:/Users/User/Desktop/charan4.JPG'\n",
    "# img_i = convert_image_to_array(img)\n",
    "# img_in = np.array([img_i], dtype=np.float16) / 225.0\n",
    "# a = img_in.tolist()\n",
    "# b = json.dumps(a)\n",
    "# iam_token = \"980fb961-e453-49ad-862e-35a69f9f8ed3\"\n",
    "# # NOTE: generate iam_token and retrieve ml_instance_id based on provided documentation\t\n",
    "# header = {'Content-Type': 'application/json', 'Authorization': 'Bearer ' + iam_token, 'ML-Instance-ID': \"99e31007-a463-414b-b4b0-643748a0aa96\"}\n",
    "\n",
    "# # NOTE: manually define and pass the array(s) of values to be scored in the next line\n",
    "# payload_scoring = {\"fields\": [b]}\n",
    "\n",
    "# response_scoring = requests.post('https://eu-gb.ml.cloud.ibm.com/v3/wml_instances/8ae06c06-744b-42d5-bf57-6dc4c7616e93/deployments/fa3f3f9a-7767-4865-a568-3005fa796a75/online', json=payload_scoring,headers=header)\n",
    "# print(\"Scoring response\")\n",
    "# print(json.loads(response_scoring.text))"
   ]
  },
  {
   "cell_type": "code",
   "execution_count": null,
   "metadata": {},
   "outputs": [],
   "source": []
  },
  {
   "cell_type": "code",
   "execution_count": null,
   "metadata": {},
   "outputs": [],
   "source": []
  },
  {
   "cell_type": "code",
   "execution_count": 1,
   "metadata": {},
   "outputs": [],
   "source": []
  }
 ],
 "metadata": {
  "kernelspec": {
   "display_name": "Python 3",
   "language": "python",
   "name": "python3"
  },
  "language_info": {
   "codemirror_mode": {
    "name": "ipython",
    "version": 3
   },
   "file_extension": ".py",
   "mimetype": "text/x-python",
   "name": "python",
   "nbconvert_exporter": "python",
   "pygments_lexer": "ipython3",
   "version": "3.7.7"
  }
 },
 "nbformat": 4,
 "nbformat_minor": 4
}
